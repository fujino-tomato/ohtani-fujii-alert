{
 "cells": [
  {
   "cell_type": "code",
   "execution_count": 43,
   "metadata": {},
   "outputs": [],
   "source": [
    "import requests\n",
    "from bs4 import BeautifulSoup\n",
    "import pandas as pd"
   ]
  },
  {
   "cell_type": "code",
   "execution_count": 3,
   "metadata": {},
   "outputs": [],
   "source": [
    "url = \"https://shogi-sanpo.com/fujiisouta/result/\"\n",
    "res = requests.get(url)\n",
    "res.encoding = \"utf-8\""
   ]
  },
  {
   "cell_type": "code",
   "execution_count": 6,
   "metadata": {},
   "outputs": [],
   "source": [
    "soup = BeautifulSoup(res.text, \"html.parser\")\n",
    "elems = soup.select(\"#mainArea > div:nth-child(21) > div > ul > li\")"
   ]
  },
  {
   "cell_type": "code",
   "execution_count": 92,
   "metadata": {},
   "outputs": [],
   "source": [
    "# ラベルの作成\n",
    "elem = elems[0]\n",
    "label = []\n",
    "for div in elem.find_all(\"div\"):\n",
    "    label.append(div.text)\n",
    "df = pd.DataFrame(columns=label)"
   ]
  },
  {
   "cell_type": "code",
   "execution_count": 95,
   "metadata": {},
   "outputs": [
    {
     "name": "stdout",
     "output_type": "stream",
     "text": [
      "1\n",
      "202307/18[後]202307/18[後]\n",
      "棋聖戦五番勝負第4局棋聖戦五番勝負第4局\n",
      "佐々木大地七段(相掛かり 84手) 詳細佐々木大地七段(相掛かり 84手) 詳細\n",
      "勝勝\n",
      "2\n",
      "202307/13～14[後]\n",
      "王位戦七番勝負第2局\n",
      "佐々木大地七段(相掛かり 98手) 詳細\n",
      "勝\n",
      "3\n",
      "202307/07～08[先]\n",
      "王位戦七番勝負第1局\n",
      "佐々木大地七段(横歩取り 97手) 詳細\n",
      "勝\n",
      "4\n",
      "202307/03[先]\n",
      "棋聖戦五番勝負第3局\n",
      "佐々木大地七段(角換わり 107手) 詳細\n",
      "勝\n",
      "5\n",
      "202306/28[先]\n",
      "王座戦挑決T準決勝\n",
      "羽生善治九段(角換わり 123手) 詳細\n",
      "勝\n"
     ]
    }
   ],
   "source": [
    "# 中身のデータの追加\n",
    "for i in range(1, 6):\n",
    "    print(i)\n",
    "    data = []\n",
    "    for div in elems[i].find_all(\"div\"):\n",
    "        print(div.text)\n",
    "        data.append(div.text)\n",
    "    df.loc[i-1] = data"
   ]
  },
  {
   "cell_type": "code",
   "execution_count": 96,
   "metadata": {},
   "outputs": [
    {
     "data": {
      "text/html": [
       "<div>\n",
       "<style scoped>\n",
       "    .dataframe tbody tr th:only-of-type {\n",
       "        vertical-align: middle;\n",
       "    }\n",
       "\n",
       "    .dataframe tbody tr th {\n",
       "        vertical-align: top;\n",
       "    }\n",
       "\n",
       "    .dataframe thead th {\n",
       "        text-align: right;\n",
       "    }\n",
       "</style>\n",
       "<table border=\"1\" class=\"dataframe\">\n",
       "  <thead>\n",
       "    <tr style=\"text-align: right;\">\n",
       "      <th></th>\n",
       "      <th>日付[手番]</th>\n",
       "      <th>棋戦</th>\n",
       "      <th>対局相手(戦型 手数)</th>\n",
       "      <th>勝敗</th>\n",
       "    </tr>\n",
       "  </thead>\n",
       "  <tbody>\n",
       "    <tr>\n",
       "      <th>0</th>\n",
       "      <td>202307/18[後]202307/18[後]</td>\n",
       "      <td>棋聖戦五番勝負第4局棋聖戦五番勝負第4局</td>\n",
       "      <td>佐々木大地七段(相掛かり 84手) 詳細佐々木大地七段(相掛かり 84手) 詳細</td>\n",
       "      <td>勝勝</td>\n",
       "    </tr>\n",
       "    <tr>\n",
       "      <th>1</th>\n",
       "      <td>202307/13～14[後]</td>\n",
       "      <td>王位戦七番勝負第2局</td>\n",
       "      <td>佐々木大地七段(相掛かり 98手) 詳細</td>\n",
       "      <td>勝</td>\n",
       "    </tr>\n",
       "    <tr>\n",
       "      <th>2</th>\n",
       "      <td>202307/07～08[先]</td>\n",
       "      <td>王位戦七番勝負第1局</td>\n",
       "      <td>佐々木大地七段(横歩取り 97手) 詳細</td>\n",
       "      <td>勝</td>\n",
       "    </tr>\n",
       "    <tr>\n",
       "      <th>3</th>\n",
       "      <td>202307/03[先]</td>\n",
       "      <td>棋聖戦五番勝負第3局</td>\n",
       "      <td>佐々木大地七段(角換わり 107手) 詳細</td>\n",
       "      <td>勝</td>\n",
       "    </tr>\n",
       "    <tr>\n",
       "      <th>4</th>\n",
       "      <td>202306/28[先]</td>\n",
       "      <td>王座戦挑決T準決勝</td>\n",
       "      <td>羽生善治九段(角換わり 123手) 詳細</td>\n",
       "      <td>勝</td>\n",
       "    </tr>\n",
       "  </tbody>\n",
       "</table>\n",
       "</div>"
      ],
      "text/plain": [
       "                     日付[手番]                    棋戦  \\\n",
       "0  202307/18[後]202307/18[後]  棋聖戦五番勝負第4局棋聖戦五番勝負第4局   \n",
       "1           202307/13～14[後]            王位戦七番勝負第2局   \n",
       "2           202307/07～08[先]            王位戦七番勝負第1局   \n",
       "3              202307/03[先]            棋聖戦五番勝負第3局   \n",
       "4              202306/28[先]             王座戦挑決T準決勝   \n",
       "\n",
       "                                対局相手(戦型 手数)  勝敗  \n",
       "0  佐々木大地七段(相掛かり 84手) 詳細佐々木大地七段(相掛かり 84手) 詳細  勝勝  \n",
       "1                      佐々木大地七段(相掛かり 98手) 詳細   勝  \n",
       "2                      佐々木大地七段(横歩取り 97手) 詳細   勝  \n",
       "3                     佐々木大地七段(角換わり 107手) 詳細   勝  \n",
       "4                      羽生善治九段(角換わり 123手) 詳細   勝  "
      ]
     },
     "execution_count": 96,
     "metadata": {},
     "output_type": "execute_result"
    }
   ],
   "source": [
    "df"
   ]
  },
  {
   "cell_type": "code",
   "execution_count": null,
   "metadata": {},
   "outputs": [],
   "source": []
  }
 ],
 "metadata": {
  "kernelspec": {
   "display_name": "web",
   "language": "python",
   "name": "python3"
  },
  "language_info": {
   "codemirror_mode": {
    "name": "ipython",
    "version": 3
   },
   "file_extension": ".py",
   "mimetype": "text/x-python",
   "name": "python",
   "nbconvert_exporter": "python",
   "pygments_lexer": "ipython3",
   "version": "3.9.7"
  },
  "orig_nbformat": 4,
  "vscode": {
   "interpreter": {
    "hash": "8ae122afa9280d93ab5a49053c0665640e69d2deb76b2c81db1b97b05c7cd356"
   }
  }
 },
 "nbformat": 4,
 "nbformat_minor": 2
}
